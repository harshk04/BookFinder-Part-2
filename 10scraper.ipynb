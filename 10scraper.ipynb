{
 "cells": [
  {
   "cell_type": "markdown",
   "id": "963b6022",
   "metadata": {},
   "source": [
    "DATA SCRAPER"
   ]
  },
  {
   "cell_type": "code",
   "execution_count": 1,
   "id": "1ba62ef6",
   "metadata": {},
   "outputs": [],
   "source": [
    "from bs4 import BeautifulSoup\n",
    "import requests\n",
    "import pandas as pd"
   ]
  },
  {
   "cell_type": "code",
   "execution_count": 2,
   "id": "84bc42a4",
   "metadata": {},
   "outputs": [],
   "source": [
    "URL = \"https://www.lifestyleasia.com/ind/shop/more/best-fiction-books-of-all-time/\""
   ]
  },
  {
   "cell_type": "code",
   "execution_count": 3,
   "id": "41d06b5a",
   "metadata": {},
   "outputs": [],
   "source": [
    "# Headers for request\n",
    "HEADERS = ({'User-agent':'Mozilla/5.0 (Macintosh; Intel Mac OS X 10_15_7) AppleWebKit/537.36 (KHTML, like Gecko) Chrome/126.0.0.0 Safari/537.36', 'Accept-Language': 'en-US, en;q=0.5'}) #add your user agent "
   ]
  },
  {
   "cell_type": "code",
   "execution_count": 4,
   "id": "942f42fc",
   "metadata": {},
   "outputs": [],
   "source": [
    "# HTTP Request\n",
    "webpage = requests.get(URL, headers=HEADERS)"
   ]
  },
  {
   "cell_type": "code",
   "execution_count": 5,
   "id": "cebb9ffa",
   "metadata": {},
   "outputs": [
    {
     "name": "stdout",
     "output_type": "stream",
     "text": [
      "<Response [200]>\n"
     ]
    }
   ],
   "source": [
    "print(webpage)"
   ]
  },
  {
   "cell_type": "code",
   "execution_count": 6,
   "id": "70d1d923",
   "metadata": {},
   "outputs": [
    {
     "data": {
      "text/plain": [
       "bytes"
      ]
     },
     "execution_count": 6,
     "metadata": {},
     "output_type": "execute_result"
    }
   ],
   "source": [
    "type(webpage.content)"
   ]
  },
  {
   "cell_type": "code",
   "execution_count": 6,
   "id": "d792ee49",
   "metadata": {},
   "outputs": [],
   "source": [
    "# Soup Object containiang all data\n",
    "soup = BeautifulSoup(webpage.content, \"html.parser\")"
   ]
  },
  {
   "cell_type": "code",
   "execution_count": 10,
   "id": "683f1abc",
   "metadata": {},
   "outputs": [
    {
     "name": "stdout",
     "output_type": "stream",
     "text": [
      "['Pride and Prejudice', '1984', 'A Tale of Two Cities', 'And Then There Were None', 'The Alchemist', 'The Da Vinci Code', 'The Catcher in the Rye', 'To Kill a Mockingbird', \"The Handmaid's Tale\", 'Wuthering Heights', 'The Great Gatsby', 'Catch-22', 'Jane Eyre', 'The Kite Runner', 'One Hundred Years of Solitude', 'The Lord of the Rings', 'Fahrenheit 451', 'Gone with the Wind', 'Beloved', 'Anna Karenina']\n"
     ]
    }
   ],
   "source": [
    "names = soup.find_all(\"ul\", class_='btt_toc-list')\n",
    "\n",
    "book_names = []\n",
    "for ul in names:\n",
    "    for li in ul.find_all(\"li\"):\n",
    "        book_names.append(li.text.split(' by ')[0].strip())\n",
    "\n",
    "print(book_names)\n"
   ]
  },
  {
   "cell_type": "code",
   "execution_count": 11,
   "id": "724968ba",
   "metadata": {},
   "outputs": [],
   "source": [
    "import pandas as pd\n",
    "\n",
    "# Ensure book_names and author_names are of the same length\n",
    "min_length = len(book_names)\n",
    "\n",
    "# Create a DataFrame\n",
    "data = {\n",
    "    'Book Name': book_names[:min_length]\n",
    "}\n",
    "\n",
    "df = pd.DataFrame(data)\n"
   ]
  },
  {
   "cell_type": "code",
   "execution_count": 14,
   "id": "2b5a61ad",
   "metadata": {},
   "outputs": [
    {
     "data": {
      "text/html": [
       "<div>\n",
       "<style scoped>\n",
       "    .dataframe tbody tr th:only-of-type {\n",
       "        vertical-align: middle;\n",
       "    }\n",
       "\n",
       "    .dataframe tbody tr th {\n",
       "        vertical-align: top;\n",
       "    }\n",
       "\n",
       "    .dataframe thead th {\n",
       "        text-align: right;\n",
       "    }\n",
       "</style>\n",
       "<table border=\"1\" class=\"dataframe\">\n",
       "  <thead>\n",
       "    <tr style=\"text-align: right;\">\n",
       "      <th></th>\n",
       "      <th>Book Name</th>\n",
       "    </tr>\n",
       "  </thead>\n",
       "  <tbody>\n",
       "    <tr>\n",
       "      <th>0</th>\n",
       "      <td>Pride and Prejudice</td>\n",
       "    </tr>\n",
       "    <tr>\n",
       "      <th>1</th>\n",
       "      <td>1984</td>\n",
       "    </tr>\n",
       "    <tr>\n",
       "      <th>2</th>\n",
       "      <td>A Tale of Two Cities</td>\n",
       "    </tr>\n",
       "    <tr>\n",
       "      <th>3</th>\n",
       "      <td>And Then There Were None</td>\n",
       "    </tr>\n",
       "    <tr>\n",
       "      <th>4</th>\n",
       "      <td>The Alchemist</td>\n",
       "    </tr>\n",
       "    <tr>\n",
       "      <th>5</th>\n",
       "      <td>The Da Vinci Code</td>\n",
       "    </tr>\n",
       "    <tr>\n",
       "      <th>6</th>\n",
       "      <td>The Catcher in the Rye</td>\n",
       "    </tr>\n",
       "    <tr>\n",
       "      <th>7</th>\n",
       "      <td>To Kill a Mockingbird</td>\n",
       "    </tr>\n",
       "    <tr>\n",
       "      <th>8</th>\n",
       "      <td>The Handmaid's Tale</td>\n",
       "    </tr>\n",
       "    <tr>\n",
       "      <th>9</th>\n",
       "      <td>Wuthering Heights</td>\n",
       "    </tr>\n",
       "    <tr>\n",
       "      <th>10</th>\n",
       "      <td>The Great Gatsby</td>\n",
       "    </tr>\n",
       "  </tbody>\n",
       "</table>\n",
       "</div>"
      ],
      "text/plain": [
       "                   Book Name\n",
       "0        Pride and Prejudice\n",
       "1                       1984\n",
       "2       A Tale of Two Cities\n",
       "3   And Then There Were None\n",
       "4              The Alchemist\n",
       "5          The Da Vinci Code\n",
       "6     The Catcher in the Rye\n",
       "7      To Kill a Mockingbird\n",
       "8        The Handmaid's Tale\n",
       "9          Wuthering Heights\n",
       "10          The Great Gatsby"
      ]
     },
     "execution_count": 14,
     "metadata": {},
     "output_type": "execute_result"
    }
   ],
   "source": [
    "df.head(11)"
   ]
  },
  {
   "cell_type": "code",
   "execution_count": 15,
   "id": "54c8bd63",
   "metadata": {},
   "outputs": [],
   "source": [
    "with open('scrrap_output2.txt', 'w') as file:\n",
    "        for item in df['Book Name']:\n",
    "            file.write(f\"{item}\\n\")"
   ]
  },
  {
   "cell_type": "code",
   "execution_count": null,
   "id": "c3e49e59",
   "metadata": {},
   "outputs": [],
   "source": []
  }
 ],
 "metadata": {
  "kernelspec": {
   "display_name": "Python 3 (ipykernel)",
   "language": "python",
   "name": "python3"
  },
  "language_info": {
   "codemirror_mode": {
    "name": "ipython",
    "version": 3
   },
   "file_extension": ".py",
   "mimetype": "text/x-python",
   "name": "python",
   "nbconvert_exporter": "python",
   "pygments_lexer": "ipython3",
   "version": "3.11.3"
  }
 },
 "nbformat": 4,
 "nbformat_minor": 5
}
